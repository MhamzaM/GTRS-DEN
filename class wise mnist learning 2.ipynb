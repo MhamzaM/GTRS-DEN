{
 "cells": [
  {
   "cell_type": "code",
   "execution_count": 1,
   "metadata": {},
   "outputs": [
    {
     "name": "stdout",
     "output_type": "stream",
     "text": [
      "2.3.0\n"
     ]
    }
   ],
   "source": [
    "import tensorflow as tf\n",
    "\n",
    "# Helper libraries\n",
    "import numpy as np\n",
    "import matplotlib.pyplot as plt\n",
    "from sklearn.model_selection import train_test_split\n",
    "from sklearn import preprocessing\n",
    "from sklearn.metrics import roc_auc_score\n",
    "import matplotlib.image as mpimg\n",
    "print(tf.__version__)\n",
    "from torchvision.datasets import SVHN\n",
    "from torchvision.transforms import ToTensor\n",
    "from time import time\n",
    "import pandas as pd\n",
    "from sklearn.preprocessing import MinMaxScaler\n",
    "from sklearn.utils import shuffle\n",
    "import nashpy as nash\n",
    "from sklearn.metrics import confusion_matrix\n",
    "from tensorflow.keras.utils import to_categorical\n",
    "from tensorflow.keras.regularizers import L2\n",
    "from time import sleep\n",
    "\n"
   ]
  },
  {
   "cell_type": "code",
   "execution_count": 2,
   "metadata": {},
   "outputs": [],
   "source": [
    "mnist = tf.keras.datasets.mnist\n",
    "(train_images, train_labels), (test_images, test_labels) = mnist.load_data()\n",
    "\n",
    "train_images = train_images / 255.0\n",
    "\n",
    "test_images = test_images / 255.0\n",
    "\n",
    "images = np.concatenate((train_images,test_images))\n",
    "labels = np.concatenate((train_labels,test_labels))\n",
    "#X = X[:500]\n",
    "#Y = Y[:500]\n",
    "#train_labels = to_categorical(train_labels)\n",
    "idx = np.argsort(train_labels)\n",
    "\n",
    "train_images_sorted = images[idx]\n",
    "train_labels_sorted = labels[idx]\n",
    "\n"
   ]
  },
  {
   "cell_type": "code",
   "execution_count": 3,
   "metadata": {},
   "outputs": [
    {
     "data": {
      "image/png": "[encoded data removed]",
      "text/plain": [
       "<Figure size 432x288 with 2 Axes>"
      ]
     },
     "metadata": {
      "needs_background": "light"
     },
     "output_type": "display_data"
    }
   ],
   "source": [
    "#x_train_zeros = train_images_sorted[train_labels == 0]\n",
    "\n",
    "i = train_images_sorted[0]\n",
    "plt.figure()\n",
    "plt.imshow(i)\n",
    "plt.colorbar()\n",
    "plt.grid(False)\n",
    "plt.show()\n"
   ]
  },
  {
   "cell_type": "code",
   "execution_count": null,
   "metadata": {},
   "outputs": [],
   "source": []
  },
  {
   "cell_type": "code",
   "execution_count": null,
   "metadata": {},
   "outputs": [],
   "source": []
  },
  {
   "cell_type": "code",
   "execution_count": null,
   "metadata": {},
   "outputs": [],
   "source": []
  },
  {
   "cell_type": "code",
   "execution_count": 4,
   "metadata": {},
   "outputs": [],
   "source": [
    "params = {\n",
    "  \"S1\": [-0.1,-0.1,0,0],\n",
    "  \"S2\": [-0.1,0,0,0.1],\n",
    "  \"S3\": [-0.1,-0.1,0,0.1],\n",
    "  \"S4\": [0,-0.1,0.1,0],\n",
    "  \"S5\": [0,0,0.1,0.1],\n",
    "  \"S6\": [0,-0.1,0.1,0.1],\n",
    "  \"S7\": [-0.1,-0.1,0.1,0],\n",
    "  \"S8\": [-0.1,0,0.1,0.1],\n",
    "  \"S9\": [-0.1,-0.1,0.1,0.1]\n",
    "}\n",
    "\n",
    "\n",
    "\n",
    "def applyThreshold(a,b,Difference):\n",
    "\n",
    "    filteredList = []\n",
    "        \n",
    "    for li in Difference:\n",
    "        #print(li.shape)\n",
    "        li = np.squeeze(li)\n",
    "        #print(li.shape)\n",
    "        #print(\"Squeezed\",li)\n",
    "        li = np.where(li <= a,li,1)\n",
    "        #print(\"After alpha\",li)\n",
    "        li = np.where(li >= b,li,0)\n",
    "        #print(\"after Beta\",li)\n",
    "        li = np.where(li != a,li,1)\n",
    "        li = np.where(li != b,li,0) \n",
    "        filteredList.append(li)\n",
    "    return filteredList\n",
    "  \n",
    "\n",
    "def countFreeze(filteredList):\n",
    "    sum = 0\n",
    "    for d in filteredList:\n",
    "        sum += np.count_nonzero(d == 0)\n",
    "    return sum\n",
    "\n",
    "def countDuplicate(filteredList):\n",
    "    sum = 0\n",
    "    for d in filteredList:\n",
    "        sum += np.count_nonzero(d == 1)\n",
    "    return sum \n",
    "\n",
    "def countTotalNodes(filteredList):\n",
    "    sum = 0\n",
    "    for d in filteredList:\n",
    "        sum += d.shape[0]\n",
    "    return sum \n",
    "  "
   ]
  },
  {
   "cell_type": "code",
   "execution_count": null,
   "metadata": {},
   "outputs": [],
   "source": []
  },
  {
   "cell_type": "code",
   "execution_count": null,
   "metadata": {},
   "outputs": [],
   "source": []
  },
  {
   "cell_type": "code",
   "execution_count": 5,
   "metadata": {},
   "outputs": [],
   "source": [
    "def apply_GTRS(Difference):\n",
    "   \n",
    "    iter = 0\n",
    "    chk = False\n",
    "    oldAlphaBeta = [[],[],[]]\n",
    "    oldPlayersValues = [[],[],[]]\n",
    "    \n",
    "    X = []\n",
    "    freeze = []\n",
    "    retrain = []\n",
    "    duplicate = [] \n",
    "     \n",
    "    alpha = 1\n",
    "    beta = 0\n",
    "\n",
    "    oldR = oldC = 0\n",
    "    r = c = 0\n",
    "    while(True):\n",
    "        #print(\"\\n\\nItreation Number: \",iter+1,\"\\n\")  \n",
    "        playersValues = [[],[],[]]\n",
    "        newAlphaBeta = [[],[],[]]\n",
    "        stab = [[],[],[]]\n",
    "        plast = [[],[],[]]\n",
    "        i = 0\n",
    "        filteredList = applyThreshold(alpha,beta,Difference[:])\n",
    "        numOfFreezeNodes = countFreeze(filteredList)\n",
    "        #print(\"\\nNumber of Freeze Nodes: \",numOfFreezeNodes)\n",
    "        numOfDuplicateNodes = countDuplicate(filteredList)\n",
    "        #print(\"\\nNumber of Duplicate Nodes: \",numOfDuplicateNodes)\n",
    "        totalNodes = countTotalNodes(filteredList)\n",
    "        #print(\"\\nNumber of total Nodes: \",totalNodes)\n",
    "        numOfRetrainNodes = totalNodes - numOfFreezeNodes - numOfDuplicateNodes\n",
    "        #print(\"\\nNumber of Retrain Nodes: \",numOfRetrainNodes)\n",
    "                 \n",
    "\n",
    "        abstr = \"alpha: \"+str(round(alpha,2))+\" beta: \"+str(round(beta,2))\n",
    "\n",
    "        X.append(abstr)\n",
    "\n",
    "        freeze.append(numOfFreezeNodes)\n",
    "        retrain.append(numOfRetrainNodes)\n",
    "        duplicate.append(numOfDuplicateNodes)\n",
    "        \n",
    "       \n",
    "        \n",
    "        X_axis = np.arange(len(X))\n",
    "        \n",
    "        for key in params.keys():\n",
    "        \n",
    "            a = alpha + params[key][0]+ params[key][1]\n",
    "            b = beta + params[key][2]+ params[key][3]\n",
    "            \n",
    "            \n",
    "            newAlphaBeta[i//3].append(tuple([a,b]))\n",
    "            #print(\"alpha for \"+key+\" :\",a)\n",
    "            #print(\"beta for \"+key+\" :\",b)\n",
    "            filteredList = applyThreshold(a,b,Difference[:])\n",
    "            \n",
    "            numOfFreezeNodes = countFreeze(filteredList[:])\n",
    "            #print(\"\\nNumber of Freeze Nodes: \",numOfFreezeNodes)\n",
    "    \n",
    "            numOfDuplicateNodes = countDuplicate(filteredList[:])\n",
    "            #print(\"\\nNumber of Duplicate Nodes: \",numOfDuplicateNodes)\n",
    "    \n",
    "            totalNodes = countTotalNodes(filteredList[:])\n",
    "            #print(\"\\nNumber of total Nodes: \",totalNodes)\n",
    "            \n",
    "            numOfRetrainNodes = totalNodes - numOfFreezeNodes - numOfDuplicateNodes\n",
    "            #print(\"\\nNumber of retrain Nodes: \",numOfRetrainNodes)\n",
    "           \n",
    "            stability = (numOfFreezeNodes + numOfDuplicateNodes)/totalNodes\n",
    "            #print(\"Stability for \"+key+\" :\",stability)\n",
    "            plasticity = 1-stability\n",
    "            #print(\"Plasticity for \"+key+\" :\",plasticity)\n",
    "            playersValues[i//3].append(tuple([plasticity,stability]))\n",
    "            stab[i//3].append(stability)\n",
    "            plast[i//3].append(plasticity)\n",
    "            \n",
    "            i += 1\n",
    "    \n",
    "        stab = np.array(stab)\n",
    "        plast = np.array(plast)\n",
    "        \n",
    "        game = nash.Game(plast,stab)\n",
    "    \n",
    "        oldR = r\n",
    "        oldC = c\n",
    "        r = 0\n",
    "        c = 0\n",
    "        \n",
    "        equilibria = game.support_enumeration()\n",
    "        for eq in equilibria:\n",
    "            r = eq[0].tolist().index(1.0)\n",
    "            c = eq[1].tolist().index(1.0)\n",
    "\n",
    "\n",
    "        hyperParameter = newAlphaBeta[r][c]\n",
    "       \n",
    "        if hyperParameter[0] <= 0.5 or hyperParameter[1] > 0.5:\n",
    "            chk = True\n",
    "            #print(\"\\nalpha beta voilated\")\n",
    "            break\n",
    "            \n",
    "        \n",
    "    \n",
    "        alpha,beta = hyperParameter\n",
    "        oldAlphaBeta = newAlphaBeta\n",
    "    \n",
    "        oldPlayersValues = playersValues\n",
    "        \n",
    "        \n",
    "        #print(\"New optimum stability and plasticity: \",oldPlayersValues[r][c])\n",
    "        #print(\"New optimum alpha and beta: \",oldAlphaBeta[r][c])\n",
    "        #print(r,c)\n",
    "    \n",
    "        #print(\"new alpha betas :\",alpha,beta)\n",
    "        iter +=1 \n",
    " \n",
    "    freeze = np.array(freeze)\n",
    "    retrain = np.array(retrain)\n",
    "    duplicate = np.array(duplicate)\n",
    "    \n",
    "    dd = np.array((freeze,retrain,duplicate))\n",
    "    \n",
    "    df = pd.DataFrame(dd,index = [\"freeze\",\"retrain\",\"duplicate\"],columns = X).T\n",
    "    ax = df.plot.bar(width = 0.8)\n",
    "    for p in ax.patches:\n",
    "        ax.annotate(str(p.get_height()), (p.get_x() * 1.005, p.get_height() * 1.025))\n",
    "    plt.ylabel(\"Number of nodes\")\n",
    "    plt.xlabel(\"Iterations\")\n",
    "    plt.title('Nodes Distribution')\n",
    "    plt.show()\n",
    "    #print(\"optimum stability and plasticity: \",oldPlayersValues[oldR][oldC])\n",
    "    #print(\"optimum alpha and beta: \",oldAlphaBeta[oldR][oldC])\n",
    "    #print(oldR,oldC)\n",
    "    \n",
    "    return oldAlphaBeta[oldR][oldC]#(oldAlphaBeta[oldR][oldC])"
   ]
  },
  {
   "cell_type": "code",
   "execution_count": null,
   "metadata": {},
   "outputs": [],
   "source": []
  },
  {
   "cell_type": "code",
   "execution_count": 17,
   "metadata": {},
   "outputs": [],
   "source": [
    "def normalize_weights(weights):\n",
    "    for i in range(1,len(weights),2):\n",
    "        weights[i] = np.expand_dims(weights[i], axis=1)\n",
    "    \n",
    "    scaler = MinMaxScaler()\n",
    "\n",
    "    for i in range(len(weights)):\n",
    "        scaler.fit(weights[i])\n",
    "        weights[i] = scaler.transform(weights[i])\n",
    "    \n",
    "    return weights \n",
    "\n",
    "\n",
    "def train_model(model,X_train, y_train):\n",
    "    #print(model.summary())  \n",
    "    start = time()\n",
    "    model.fit(X_train, y_train, epochs=3)\n",
    "    Time = time()-start\n",
    "    print(\"Training Time in Secs: \",Time)\n",
    "    return Time    \n",
    "    \n",
    "    \n",
    "    #return (Time,test_loss,test_acc)\n",
    "\n",
    "\n",
    "\n",
    "def avg_and_normalize_differences(Difference):\n",
    "    for i in range(0,len(Difference),2):\n",
    "        Difference[i] = np.average(Difference[i],axis = 0)\n",
    "\n",
    "        \n",
    "    for i in range(0,len(Difference),2):\n",
    "        Difference[i] = np.expand_dims(Difference[i], axis=1)\n",
    "        \n",
    "    newDifference = []\n",
    "    for i in range(0,len(Difference),2):\n",
    "        newDifference.append(np.average(Difference[i:i+2]))\n",
    "    \n",
    "    scaler = MinMaxScaler()\n",
    "    for i in range(len(newDifference)):\n",
    "        scaler.fit(newDifference[i])\n",
    "        newDifference[i] = scaler.transform(newDifference[i])\n",
    "    \n",
    "    return newDifference\n",
    "\n",
    "\n",
    "def update_model(layers_shape,newWeights):\n",
    "\n",
    "    H1 = tf.keras.layers.Dense(units =layers_shape[0][0], activation= \"relu\")#  kernel_regularizer=tf.keras.regularizers.L2(0.1) \n",
    "    H2 = tf.keras.layers.Dense(units =layers_shape[1][0], activation= \"relu\")\n",
    "    H3 = tf.keras.layers.Dense(units =layers_shape[2][0], activation= \"relu\")#kernel_regularizer=tf.keras.regularizers.L2(0.01),bias_regularizer=tf.keras.regularizers.L2(0.01)\n",
    "    out = tf.keras.layers.Dense(units =2, activation= \"sigmoid\")\n",
    "\n",
    "\n",
    "    #out = SimpleDense(units = 2, activation=\"sigmoid\")#layers_shape[3][1]\n",
    "\n",
    "\n",
    "    newModel = tf.keras.Sequential([\n",
    "        tf.keras.layers.Conv2D(32, (3, 3), activation='relu', input_shape=(28, 28,1)),\n",
    "        tf.keras.layers.MaxPooling2D((2, 2),strides = 2),\n",
    "        tf.keras.layers.Conv2D(64, (3, 3), activation='relu'),\n",
    "        tf.keras.layers.MaxPooling2D((2, 2),strides = 2),\n",
    "        #tf.keras.layers.Conv2D(128, (3, 3), activation='relu'),\n",
    "        #tf.keras.layers.MaxPooling2D((2, 2),strides = 2),\n",
    "      \n",
    "        tf.keras.layers.Flatten(),\n",
    "        H1,\n",
    "        H2,\n",
    "        H3,\n",
    "        out\n",
    "    \n",
    "    ])\n",
    "    \n",
    "    opt =tf.keras.optimizers.Adam(\n",
    "    learning_rate=0.001, beta_1=0.9, beta_2=0.999, epsilon=1e-07, amsgrad=False,\n",
    "    name='Adam')\n",
    "    \n",
    "    \n",
    "    newModel.compile(optimizer=opt,\n",
    "              loss=tf.keras.losses.sparse_categorical_crossentropy,\n",
    "              metrics=['accuracy'])\n",
    "    newModel.build((None,28,28))\n",
    "    newModel.set_weights(newWeights)\n",
    "    return newModel\n",
    "        \n",
    "def duplicate_neuron(filteredList,mainWeights,model):\n",
    "    k = 0\n",
    "    z = 4#6\n",
    "    layers_shape = []\n",
    "    for i in range(3):#[7:-1]\n",
    "        #print(\"Shape before duplication: \",mainWeights[z][0].shape)\n",
    "        m = np.nonzero(filteredList[k] == 1)\n",
    "    \n",
    "        dplW = []\n",
    "        dplB = []\n",
    "        dplWN = []\n",
    "        \n",
    "        \n",
    "        for j in m[0]:\n",
    "            #print(j)\n",
    "            #print(mainWeights[z].shape)\n",
    "            dplW.append(mainWeights[z][:,j])\n",
    "            dplB.append(mainWeights[z+1][j])\n",
    "            dplWN.append(mainWeights[z+2][j])\n",
    "        \n",
    "            \n",
    "        dplW = np.array(dplW)\n",
    "        dplW = dplW.T\n",
    "        dplB = np.array(dplB)\n",
    "        #print(dplB.shape)\n",
    "        if(len(dplB.shape) == 2):\n",
    "            dplB = np.squeeze(dplB)\n",
    "        \n",
    "        dplWN = np.array(dplWN)\n",
    "        \n",
    "        #print(dplB.shape)\n",
    "        #print(mainWeights.shape)\n",
    "        \n",
    "        if(dplW.shape[0] != 0):\n",
    "            mainWeights[z] = np.concatenate((mainWeights[z],dplW),1)\n",
    "            mainWeights[z+2] = np.insert(mainWeights[z+2], 1,dplWN, axis=0)\n",
    "        layers_shape.append(mainWeights[z][0].shape)\n",
    "       \n",
    "        if(dplW.shape[0] != 0):\n",
    "            mainWeights[z+1] = np.concatenate((mainWeights[z+1],dplB),0)\n",
    "            \n",
    "        #print(\"Shape after duplication: \",mainWeights[z][0].shape)\n",
    "\n",
    "        k +=1\n",
    "        z +=2\n",
    "    layers_shape.append(model.layers[-1].weights[0].shape)\n",
    "    #update_model(layers_shape,mainWeights)\n",
    "    return (layers_shape,mainWeights)\n",
    "\n",
    "def freeze_neurons(filteredList,model,mainWeights,updatedWeights):\n",
    "    k = 0\n",
    "    z = 4#6\n",
    "    for i in range(3):#[7:-1]\n",
    "        m = np.nonzero(filteredList[k] == 0)\n",
    "        #print(\"printing layer\")\n",
    "        #print(i)\n",
    "        for j in m[0]:\n",
    "            #print(j)\n",
    "            #print(updatedWeights[z].shape)\n",
    "            #print(mainWeights[z].shape)\n",
    "            updatedWeights[z][:,j] = mainWeights[z][:,j]\n",
    "            updatedWeights[z+1][j] = mainWeights[z+1][j]\n",
    "        m = np.nonzero(filteredList[k] == 1)\n",
    "        for j in m[0]:\n",
    "            #print(j)\n",
    "            #print(updatedWeights[z].shape)\n",
    "            #print(mainWeights[z].shape)\n",
    "            updatedWeights[z][:,j] = mainWeights[z][:,j]\n",
    "            updatedWeights[z+1][j] = mainWeights[z+1][j]\n",
    "        k +=1\n",
    "        z +=2\n",
    "\n",
    "    model.set_weights(updatedWeights)\n",
    "    \n",
    "    #Duplicate, freeze,total\n",
    "def get_time(time,paras):  \n",
    "    total = paras[0]+paras[2]\n",
    "    per = time / total\n",
    "    time = time - (per*paras[1])\n",
    "    return time   \n",
    "\n",
    "def selectiveTesting(m,currM):\n",
    "    for i in range(4,10,2):\n",
    "        size = m[i].shape\n",
    "        #print(\"Before\")\n",
    "        #print(currM[i][:,size[1]:]) \n",
    "        currM[i][:,size[1]:].fill(0)\n",
    "        #print(\"after\")\n",
    "        #print(currM[i][:,size[1]:])\n",
    "        #print(\"Before\")\n",
    "        #print(currM[i+1][size[1]:])\n",
    "        currM[i+1][size[1]:].fill(0)\n",
    "        #print(\"after\")\n",
    "        #print(currM[i+1][size[1]:])\n",
    "    #a = currM[-2].shape[0]\n",
    "    #b = m[-2].shape[0]\n",
    "    #currM[-2][:b] = m[-2]\n",
    "    #currM[-2][b:] = 0\n",
    "    #print(currM[-2][:])\n",
    "    #print(m[-2])\n",
    "    #print(m[-2].shape)\n",
    "    \n",
    "    return currM"
   ]
  },
  {
   "cell_type": "code",
   "execution_count": 18,
   "metadata": {},
   "outputs": [],
   "source": [
    "H1 = tf.keras.layers.Dense(units =784, activation= \"relu\")    \n",
    "H2 = tf.keras.layers.Dense(units =200, activation= \"relu\")\n",
    "H3 = tf.keras.layers.Dense(units =40, activation= \"relu\")\n",
    "out = tf.keras.layers.Dense(units =2, activation= \"sigmoid\")\n",
    "\n",
    "\n",
    "model = tf.keras.Sequential([\n",
    "    tf.keras.layers.Conv2D(32, (3, 3), activation='relu', input_shape=(28, 28,1)),\n",
    "    tf.keras.layers.MaxPooling2D((2, 2),strides = 2),\n",
    "    tf.keras.layers.Conv2D(64, (3, 3), activation='relu'),\n",
    "    tf.keras.layers.MaxPooling2D((2, 2),strides = 2),\n",
    "    #tf.keras.layers.Conv2D(128, (3, 3), activation='relu'),\n",
    "    #tf.keras.layers.MaxPooling2D((2, 2),strides = 2),\n",
    "    \n",
    "    tf.keras.layers.Flatten(),\n",
    "    H1,\n",
    "    H2,\n",
    "    H3,\n",
    "    out\n",
    "])\n",
    "\n",
    "opt =tf.keras.optimizers.Adam(\n",
    "    learning_rate=0.001, beta_1=0.9, beta_2=0.999, epsilon=1e-07, amsgrad=False,\n",
    "    name='Adam')\n",
    "model.compile(optimizer=opt,\n",
    "              loss=tf.keras.losses.sparse_categorical_crossentropy,\n",
    "              metrics=[\"accuracy\"])\n",
    "\n"
   ]
  },
  {
   "cell_type": "code",
   "execution_count": null,
   "metadata": {},
   "outputs": [],
   "source": []
  },
  {
   "cell_type": "code",
   "execution_count": null,
   "metadata": {},
   "outputs": [],
   "source": []
  },
  {
   "cell_type": "code",
   "execution_count": 19,
   "metadata": {
    "scrolled": true
   },
   "outputs": [
    {
     "data": {
      "image/png": "[encoded data removed]",
      "text/plain": [
       "<Figure size 432x288 with 2 Axes>"
      ]
     },
     "metadata": {
      "needs_background": "light"
     },
     "output_type": "display_data"
    },
    {
     "data": {
      "image/png": "[encoded data removed]",
      "text/plain": [
       "<Figure size 432x288 with 2 Axes>"
      ]
     },
     "metadata": {
      "needs_background": "light"
     },
     "output_type": "display_data"
    },
    {
     "name": "stdout",
     "output_type": "stream",
     "text": [
      "Epoch 1/3\n",
      "278/278 [==============================] - 7s 24ms/step - loss: 0.0281 - accuracy: 0.9936\n",
      "Epoch 2/3\n",
      "278/278 [==============================] - 7s 24ms/step - loss: 0.0026 - accuracy: 0.9991\n",
      "Epoch 3/3\n",
      "278/278 [==============================] - 6s 23ms/step - loss: 0.0032 - accuracy: 0.9993\n",
      "Training Time in Secs:  20.193652391433716\n",
      "119/119 - 1s - loss: 0.0021 - accuracy: 0.9997\n",
      "confusion matrix\n",
      "[[1805    0]\n",
      " [   1 1994]]\n",
      "AUC:  0.9997493734335839\n",
      "\n",
      "Test acc: 0.9997368454933167\n"
     ]
    },
    {
     "data": {
      "image/png": "[encoded data removed]",
      "text/plain": [
       "<Figure size 432x288 with 2 Axes>"
      ]
     },
     "metadata": {
      "needs_background": "light"
     },
     "output_type": "display_data"
    },
    {
     "data": {
      "image/png": "[encoded data removed]",
      "text/plain": [
       "<Figure size 432x288 with 2 Axes>"
      ]
     },
     "metadata": {
      "needs_background": "light"
     },
     "output_type": "display_data"
    },
    {
     "name": "stdout",
     "output_type": "stream",
     "text": [
      "Epoch 1/3\n",
      "82/82 [==============================] - 2s 21ms/step - loss: 0.2076 - accuracy: 0.9381\n",
      "Epoch 2/3\n",
      "82/82 [==============================] - 2s 20ms/step - loss: 0.0339 - accuracy: 0.9865\n",
      "Epoch 3/3\n",
      "82/82 [==============================] - 2s 20ms/step - loss: 0.0167 - accuracy: 0.9938\n",
      "Training Time in Secs:  5.140146732330322\n"
     ]
    },
    {
     "data": {
      "image/png": "[encoded data removed]",
      "text/plain": [
       "<Figure size 432x288 with 1 Axes>"
      ]
     },
     "metadata": {
      "needs_background": "light"
     },
     "output_type": "display_data"
    },
    {
     "name": "stdout",
     "output_type": "stream",
     "text": [
      "Epoch 1/3\n",
      "542/542 [==============================] - 13s 23ms/step - loss: 0.0418 - accuracy: 0.9836\n",
      "Epoch 2/3\n",
      "542/542 [==============================] - 13s 24ms/step - loss: 0.0148 - accuracy: 0.9949\n",
      "Epoch 3/3\n",
      "542/542 [==============================] - 13s 24ms/step - loss: 0.0082 - accuracy: 0.9970\n",
      "Training Time in Secs:  38.624834299087524\n",
      "233/233 - 1s - loss: 0.1119 - accuracy: 0.9806\n",
      "confusion matrix\n",
      "[[3408  139]\n",
      " [   5 3875]]\n",
      "AUC:  0.9797616469849648\n",
      "\n",
      "Test acc: 0.980611264705658\n",
      "0\n",
      "Test accuracy on number of tasks : 1\n",
      "119/119 - 1s - loss: 0.5004 - accuracy: 0.9963\n",
      "Test acc:   0.9963157773017883\n",
      "confusion matrix\n",
      "[[1792   13]\n",
      " [   1 1994]]\n",
      "AUC:  0.996148265400343\n"
     ]
    },
    {
     "data": {
      "image/png": "[encoded data removed]",
      "text/plain": [
       "<Figure size 432x288 with 2 Axes>"
      ]
     },
     "metadata": {
      "needs_background": "light"
     },
     "output_type": "display_data"
    },
    {
     "data": {
      "image/png": "[encoded data removed]",
      "text/plain": [
       "<Figure size 432x288 with 2 Axes>"
      ]
     },
     "metadata": {
      "needs_background": "light"
     },
     "output_type": "display_data"
    },
    {
     "name": "stdout",
     "output_type": "stream",
     "text": [
      "Epoch 1/3\n",
      "81/81 [==============================] - 2s 23ms/step - loss: 0.0592 - accuracy: 0.9795\n",
      "Epoch 2/3\n",
      "81/81 [==============================] - 2s 23ms/step - loss: 0.0137 - accuracy: 0.9965\n",
      "Epoch 3/3\n",
      "81/81 [==============================] - 2s 24ms/step - loss: 0.0057 - accuracy: 0.9969\n",
      "Training Time in Secs:  5.824082612991333\n"
     ]
    },
    {
     "data": {
      "image/png": "[encoded data removed]",
      "text/plain": [
       "<Figure size 432x288 with 1 Axes>"
      ]
     },
     "metadata": {
      "needs_background": "light"
     },
     "output_type": "display_data"
    },
    {
     "name": "stdout",
     "output_type": "stream",
     "text": [
      "Epoch 1/3\n",
      "540/540 [==============================] - 14s 26ms/step - loss: 0.0261 - accuracy: 0.9902\n",
      "Epoch 2/3\n",
      "540/540 [==============================] - 14s 26ms/step - loss: 0.0108 - accuracy: 0.9972\n",
      "Epoch 3/3\n",
      "540/540 [==============================] - 16s 31ms/step - loss: 0.0086 - accuracy: 0.9977\n",
      "Training Time in Secs:  45.3125364780426\n",
      "232/232 - 1s - loss: 0.1798 - accuracy: 0.9832\n",
      "confusion matrix\n",
      "[[3610    4]\n",
      " [ 120 3667]]\n",
      "AUC:  0.9836029208361287\n",
      "\n",
      "Test acc: 0.9832454919815063\n",
      "0\n",
      "Test accuracy on number of tasks : 1\n",
      "119/119 - 1s - loss: 0.4956 - accuracy: 0.9811\n",
      "Test acc:   0.9810526371002197\n",
      "confusion matrix\n",
      "[[1805    0]\n",
      " [  72 1923]]\n",
      "AUC:  0.9819548872180451\n",
      "1\n",
      "Test accuracy on number of tasks : 2\n",
      "233/233 - 1s - loss: 0.4851 - accuracy: 0.9760\n",
      "Test acc:   0.9760333895683289\n",
      "confusion matrix\n",
      "[[3506   41]\n",
      " [ 137 3743]]\n",
      "AUC:  0.9765658288258702\n"
     ]
    },
    {
     "data": {
      "image/png": "[encoded data removed]",
      "text/plain": [
       "<Figure size 432x288 with 2 Axes>"
      ]
     },
     "metadata": {
      "needs_background": "light"
     },
     "output_type": "display_data"
    },
    {
     "data": {
      "image/png": "[encoded data removed]",
      "text/plain": [
       "<Figure size 432x288 with 2 Axes>"
      ]
     },
     "metadata": {
      "needs_background": "light"
     },
     "output_type": "display_data"
    },
    {
     "name": "stdout",
     "output_type": "stream",
     "text": [
      "Epoch 1/3\n",
      "87/87 [==============================] - 2s 27ms/step - loss: 0.3850 - accuracy: 0.8593\n",
      "Epoch 2/3\n",
      "87/87 [==============================] - 3s 35ms/step - loss: 0.3433 - accuracy: 0.9613\n",
      "Epoch 3/3\n",
      "87/87 [==============================] - 3s 29ms/step - loss: 0.3390 - accuracy: 0.9584\n",
      "Training Time in Secs:  8.269674062728882\n"
     ]
    },
    {
     "data": {
      "image/png": "[encoded data removed]",
      "text/plain": [
       "<Figure size 432x288 with 1 Axes>"
      ]
     },
     "metadata": {
      "needs_background": "light"
     },
     "output_type": "display_data"
    },
    {
     "name": "stdout",
     "output_type": "stream",
     "text": [
      "Epoch 1/3\n",
      "576/576 [==============================] - 17s 29ms/step - loss: 0.0292 - accuracy: 0.9912\n",
      "Epoch 2/3\n",
      "576/576 [==============================] - 17s 29ms/step - loss: 0.0106 - accuracy: 0.9971\n",
      "Epoch 3/3\n",
      "576/576 [==============================] - 17s 30ms/step - loss: 0.0077 - accuracy: 0.9979\n",
      "Training Time in Secs:  51.480929136276245\n",
      "247/247 - 2s - loss: 0.0101 - accuracy: 0.9978\n",
      "confusion matrix\n",
      "[[3732    7]\n",
      " [  10 4150]]\n",
      "AUC:  0.9978619977575246\n",
      "\n",
      "Test acc: 0.997847855091095\n",
      "0\n",
      "Test accuracy on number of tasks : 1\n",
      "119/119 - 1s - loss: 0.4297 - accuracy: 0.9989\n",
      "Test acc:   0.9989473819732666\n",
      "confusion matrix\n",
      "[[1801    4]\n",
      " [   0 1995]]\n",
      "AUC:  0.9988919667590027\n",
      "1\n",
      "Test accuracy on number of tasks : 2\n",
      "233/233 - 2s - loss: 0.3370 - accuracy: 0.9871\n",
      "Test acc:   0.9870741963386536\n",
      "confusion matrix\n",
      "[[3456   91]\n",
      " [   5 3875]]\n",
      "AUC:  0.9865279283494982\n",
      "2\n",
      "Test accuracy on number of tasks : 3\n",
      "232/232 - 2s - loss: 0.0461 - accuracy: 0.9903\n",
      "Test acc:   0.9902715682983398\n",
      "confusion matrix\n",
      "[[3561   53]\n",
      " [  19 3768]]\n",
      "AUC:  0.9901588225468861\n"
     ]
    },
    {
     "data": {
      "image/png": "[encoded data removed]",
      "text/plain": [
       "<Figure size 432x288 with 2 Axes>"
      ]
     },
     "metadata": {
      "needs_background": "light"
     },
     "output_type": "display_data"
    },
    {
     "data": {
      "image/png": "[encoded data removed]",
      "text/plain": [
       "<Figure size 432x288 with 2 Axes>"
      ]
     },
     "metadata": {
      "needs_background": "light"
     },
     "output_type": "display_data"
    },
    {
     "name": "stdout",
     "output_type": "stream",
     "text": [
      "Epoch 1/3\n",
      "88/88 [==============================] - 3s 31ms/step - loss: 0.0972 - accuracy: 0.9690\n",
      "Epoch 2/3\n",
      "88/88 [==============================] - 3s 30ms/step - loss: 0.0236 - accuracy: 0.9939\n",
      "Epoch 3/3\n",
      "88/88 [==============================] - 3s 30ms/step - loss: 0.0081 - accuracy: 0.9968\n",
      "Training Time in Secs:  8.196072101593018\n"
     ]
    },
    {
     "data": {
      "image/png": "[encoded data removed]",
      "text/plain": [
       "<Figure size 432x288 with 1 Axes>"
      ]
     },
     "metadata": {
      "needs_background": "light"
     },
     "output_type": "display_data"
    },
    {
     "name": "stdout",
     "output_type": "stream",
     "text": [
      "Epoch 1/3\n",
      "585/585 [==============================] - 19s 32ms/step - loss: 0.0492 - accuracy: 0.9815\n",
      "Epoch 2/3\n",
      "585/585 [==============================] - 18s 31ms/step - loss: 0.0192 - accuracy: 0.9941\n",
      "Epoch 3/3\n",
      "585/585 [==============================] - 18s 31ms/step - loss: 0.0110 - accuracy: 0.9960\n",
      "Training Time in Secs:  55.52881908416748\n",
      "251/251 - 2s - loss: 0.0167 - accuracy: 0.9953\n",
      "confusion matrix\n",
      "[[3820   20]\n",
      " [  18 4163]]\n",
      "AUC:  0.9952432382603842\n",
      "\n",
      "Test acc: 0.9952624440193176\n",
      "0\n",
      "Test accuracy on number of tasks : 1\n",
      "119/119 - 1s - loss: 0.4475 - accuracy: 0.9982\n",
      "Test acc:   0.9981579184532166\n",
      "confusion matrix\n",
      "[[1801    4]\n",
      " [   3 1992]]\n",
      "AUC:  0.9981400870597547\n",
      "1\n",
      "Test accuracy on number of tasks : 2\n",
      "233/233 - 2s - loss: 0.2166 - accuracy: 0.9907\n",
      "Test acc:   0.9907096028327942\n",
      "confusion matrix\n",
      "[[3534   13]\n",
      " [  56 3824]]\n",
      "AUC:  0.9909509706184114\n",
      "2\n",
      "Test accuracy on number of tasks : 3\n",
      "232/232 - 2s - loss: 0.0746 - accuracy: 0.9809\n",
      "Test acc:   0.9809485077857971\n",
      "confusion matrix\n",
      "[[3500  114]\n",
      " [  27 3760]]\n",
      "AUC:  0.9806631751737405\n",
      "3\n",
      "Test accuracy on number of tasks : 4\n",
      "247/247 - 2s - loss: 0.0198 - accuracy: 0.9935\n",
      "Test acc:   0.9935435056686401\n",
      "confusion matrix\n",
      "[[3732    7]\n",
      " [  44 4116]]\n",
      "AUC:  0.9937754592959862\n"
     ]
    }
   ],
   "source": [
    "testingDataX = []\n",
    "testingDataY = []\n",
    "outPutLayer = []\n",
    "trainingTime = []\n",
    "accuracyMatrix = np.zeros((5,5))\n",
    "aucRoc = np.zeros((5,5))\n",
    "nodes_info = np.zeros((5,2))\n",
    "nodes_info[0][1] = 1224\n",
    "myModels = []\n",
    "\n",
    "\n",
    "count = 0\n",
    "start = time()\n",
    "for i in range(0,10,2):    \n",
    "    \n",
    "    X = train_images_sorted[train_labels_sorted == i]\n",
    "    #Y = train_labels_sorted[train_labels_sorted == i]\n",
    "    Y = np.zeros(X.shape[0])\n",
    "    \n",
    "\n",
    "    X2 = train_images_sorted[train_labels_sorted == i+1]\n",
    "    #Y2 = train_labels_sorted[train_labels_sorted == i+1]\n",
    "    \n",
    "        \n",
    "    X = np.concatenate((X,X2))\n",
    "    #Y = np.concatenate((Y,Y2))\n",
    "    Y = np.concatenate((Y,np.ones(X2.shape[0])))\n",
    "    \n",
    "    x_ = X\n",
    "    y_ = Y\n",
    "    \n",
    "        \n",
    "    plt.figure()\n",
    "    plt.imshow(X[0])\n",
    "    plt.colorbar()\n",
    "    plt.grid(False)\n",
    "    plt.show()\n",
    "\n",
    "    \n",
    "    #print(Y[:10])\n",
    "    \n",
    "    plt.figure()\n",
    "    plt.imshow(X[-1])\n",
    "    plt.colorbar()\n",
    "    plt.grid(False)\n",
    "    plt.show()\n",
    "    \n",
    "    #print(Y[-10:])\n",
    "    if i != 0:\n",
    "        \n",
    "        X = np.concatenate((X,sampleX))\n",
    "        Y = np.concatenate((Y,sampleY))\n",
    "        \n",
    "    X_train, X_test, y_train, y_test = train_test_split(X, Y, test_size=0.30, random_state=42)\n",
    "    #X_test, X_val, y_test, y_val = train_test_split(X_test, y_test, test_size=0.60, random_state=42)\n",
    "    \n",
    "    X_train = tf.expand_dims(X_train,-1)\n",
    "    X_test = tf.expand_dims(X_test,-1)\n",
    "    #X_val = tf.expand_dims(X_val,-1)\n",
    "    testingDataX.append(X_test)\n",
    "    testingDataY.append(y_test)\n",
    "    #print(\"testingDataX size: \",len(testingDataX))\n",
    "    #print(\"testingDataY size: \",len(testingDataY))\n",
    "    \n",
    "    if count > 0:\n",
    "        \n",
    "        mainWeights = model.get_weights()\n",
    "        \n",
    "        #previous_weights = normalize_weights(mainWeights[4:-2])#4\n",
    "        previous_weights = mainWeights[4:-2]#[6:-2]\n",
    "        for x in range(1,len(previous_weights),2):\n",
    "            previous_weights[x] = np.expand_dims(previous_weights[x], axis=1)  \n",
    "            \n",
    "        split = X_train.shape[0]*15//100\n",
    "        train_model(model,X_train[:split], y_train[:split])\n",
    "        \n",
    "        \n",
    "        current_weights = model.get_weights()\n",
    "        #current_weights = normalize_weights(current_weights[4:-2])#4\n",
    "        current_weights = current_weights[4:-2]#[6:-2]\n",
    "        \n",
    "        \n",
    "            \n",
    "        for x in range(1,len(current_weights),2):\n",
    "            current_weights[x] = np.expand_dims(current_weights[x], axis=1)    \n",
    "        \n",
    "            \n",
    "        \n",
    "        Difference = np.subtract(current_weights,previous_weights)\n",
    "        Difference = avg_and_normalize_differences(Difference)\n",
    "        \n",
    "        #for i in range(len(Difference)):\n",
    "            #Difference[i] = Difference[i] - 0.2\n",
    "  \n",
    "        parameters = apply_GTRS(Difference)\n",
    "        #print(\"alpha:\",parameters[0])\n",
    "        #print(\"beta:\",parameters[1])\n",
    "        \n",
    "        filteredList = applyThreshold(parameters[0],parameters[1],Difference)      \n",
    "        #filteredList = applyThreshold(0.4,0.6,Difference)\n",
    "        \n",
    "        nodes_info[count][0] = countDuplicate(filteredList) \n",
    "        nodes_info[count][1] = countTotalNodes(filteredList)\n",
    "        f = countFreeze(filteredList)\n",
    "        \n",
    "        model.set_weights(mainWeights)\n",
    "    \n",
    "        if(type(mainWeights) ==  list):\n",
    "            mainWeights =np.array(mainWeights)\n",
    "    \n",
    "        model_info = duplicate_neuron(filteredList[:],mainWeights,model)\n",
    "        \n",
    "        \n",
    "        model = update_model(model_info[0],model_info[1])\n",
    "        \n",
    "        mainWeights = model.get_weights()\n",
    "        \n",
    "        outPutLayer.append(model.layers[-1].weights)\n",
    "       \n",
    "    \n",
    "    Time = train_model(model,X_train, y_train)\n",
    "    \n",
    "    \n",
    "    if(count == 0):\n",
    "        trainingTime.append(Time)\n",
    "    else:\n",
    "        trainingTime.append(get_time(Time,(nodes_info[count][0],f,nodes_info[count][1])))\n",
    "    \n",
    "    \n",
    "    if(count > 0):\n",
    "        freeze_neurons(filteredList[:],model,mainWeights,model.get_weights())\n",
    "        \n",
    "    test_loss, test_acc = model.evaluate(X_test, y_test, verbose=2)\n",
    "    \n",
    "    predictions = model.predict_classes(X_test)\n",
    "    #print(y_test[0])\n",
    "    #print(predictions[0])\n",
    "    c_matrix = confusion_matrix(y_test,predictions)\n",
    "    print(\"confusion matrix\")\n",
    "    print(c_matrix)\n",
    "    \n",
    "    \n",
    "    #predictions = to_categorical(model.predict_classes(X_test))\n",
    "    #print(predictions.shape)\n",
    "    #print(y_test.shape)\n",
    "    \n",
    "    auc = roc_auc_score(y_test,predictions)\n",
    "    \n",
    "    print(\"AUC: \",auc)\n",
    "    accuracyMatrix[count][count] = test_acc\n",
    "    aucRoc[count][count] = auc\n",
    "    print('\\nTest acc:', test_acc)\n",
    " \n",
    "    myModels.append(model)\n",
    "    \n",
    "    if(count > 0):\n",
    "        weights = model.get_weights()\n",
    "        for j in range(len(testingDataX)-1):\n",
    "            print(j)\n",
    "            print(\"Test accuracy on number of tasks : \"+str(j+1))\n",
    "            \n",
    "            #weights[-1] = outPutLayer[j][-1].numpy()\n",
    "            #weights[-2] = outPutLayer[j][-2].numpy()\n",
    "            #model.set_weights(weights)\n",
    "            testModel = myModels[j]\n",
    "    \n",
    "            uw =  selectiveTesting(testModel.get_weights(),model.get_weights())\n",
    "            model.set_weights(uw)\n",
    "            test_loss, test_acc = model.evaluate(testingDataX[j], testingDataY[j], verbose=2)\n",
    "            accuracyMatrix[j][count] = test_acc\n",
    "            \n",
    "            print(\"Test acc:  \",test_acc)\n",
    "            predictions = model.predict_classes(testingDataX[j])\n",
    "            #print(valDataY[0])\n",
    "            #print(predictions[0])\n",
    "            c_matrix = confusion_matrix(testingDataY[j],predictions)\n",
    "            print(\"confusion matrix\")\n",
    "            print(c_matrix)\n",
    "            \n",
    "            #predictions = to_categorical(model.predict_classes(testingDataY[j]))\n",
    "            #print(predictions.shape)\n",
    "            #print(valDataY.shape)\n",
    "        \n",
    "            auc = roc_auc_score(testingDataY[j],predictions)\n",
    "            aucRoc[j][count] = auc\n",
    "            print(\"AUC: \",auc)\n",
    "            model.set_weights(weights)\n",
    "            \n",
    "    count = count + 1\n",
    "    if i == 0:\n",
    "        sampleX = x_\n",
    "        sampleY = y_\n",
    "    else:\n",
    "        x_, y_ = shuffle(x_, y_, random_state=0)\n",
    "        split = X.shape[0]*5//100\n",
    "        sampleX = np.concatenate((sampleX,x_[:split]))\n",
    "        sampleY = np.concatenate((sampleY,y_[:split]))\n",
    "        \n",
    "endTime = time() - start\n"
   ]
  },
  {
   "cell_type": "code",
   "execution_count": null,
   "metadata": {},
   "outputs": [],
   "source": []
  },
  {
   "cell_type": "code",
   "execution_count": null,
   "metadata": {},
   "outputs": [],
   "source": []
  },
  {
   "cell_type": "code",
   "execution_count": null,
   "metadata": {},
   "outputs": [],
   "source": []
  },
  {
   "cell_type": "code",
   "execution_count": null,
   "metadata": {},
   "outputs": [],
   "source": []
  },
  {
   "cell_type": "code",
   "execution_count": 105,
   "metadata": {},
   "outputs": [],
   "source": [
    "#aucRoc"
   ]
  },
  {
   "cell_type": "code",
   "execution_count": null,
   "metadata": {},
   "outputs": [],
   "source": []
  },
  {
   "cell_type": "code",
   "execution_count": 21,
   "metadata": {},
   "outputs": [
    {
     "name": "stdout",
     "output_type": "stream",
     "text": [
      "Average AUC-ROC after training 1 tasks:  0.9997493734335839\n",
      "Average AUC-ROC after training 2 tasks:  0.9879549561926539\n",
      "Average AUC-ROC after training 3 tasks:  0.9807078789600147\n",
      "Average AUC-ROC after training 4 tasks:  0.9933601788532279\n",
      "Average AUC-ROC after training 5 tasks:  0.9917545860816555\n"
     ]
    }
   ],
   "source": [
    "avgRoc = []\n",
    "for i in range(5):\n",
    "    t = aucRoc[:,i] \n",
    "    avg = np.average(t[np.nonzero(t)])\n",
    "    avgRoc.append(avg)\n",
    "    print(\"Average AUC-ROC after training \"+str(i+1)+\" tasks: \", avg)\n",
    "avgRoc  = np.around(np.array(avgRoc),2)"
   ]
  },
  {
   "cell_type": "code",
   "execution_count": 22,
   "metadata": {},
   "outputs": [
    {
     "data": {
      "text/plain": [
       "array([1.  , 0.99, 0.98, 0.99, 0.99])"
      ]
     },
     "execution_count": 22,
     "metadata": {},
     "output_type": "execute_result"
    }
   ],
   "source": [
    "avgRoc"
   ]
  },
  {
   "cell_type": "code",
   "execution_count": 23,
   "metadata": {},
   "outputs": [
    {
     "data": {
      "text/plain": [
       "array([[0.99973685, 0.99631578, 0.98105264, 0.99894738, 0.99815792],\n",
       "       [0.        , 0.98061126, 0.97603339, 0.9870742 , 0.9907096 ],\n",
       "       [0.        , 0.        , 0.98324549, 0.99027157, 0.98094851],\n",
       "       [0.        , 0.        , 0.        , 0.99784786, 0.99354351],\n",
       "       [0.        , 0.        , 0.        , 0.        , 0.99526244]])"
      ]
     },
     "execution_count": 23,
     "metadata": {},
     "output_type": "execute_result"
    }
   ],
   "source": [
    "accuracyMatrix"
   ]
  },
  {
   "cell_type": "code",
   "execution_count": 24,
   "metadata": {},
   "outputs": [
    {
     "name": "stdout",
     "output_type": "stream",
     "text": [
      "Average accuracy after training 1 tasks:  0.9997368454933167\n",
      "Average accuracy after training 2 tasks:  0.9884635210037231\n",
      "Average accuracy after training 3 tasks:  0.9801105062166849\n",
      "Average accuracy after training 4 tasks:  0.9935352504253387\n",
      "Average accuracy after training 5 tasks:  0.9917243957519531\n"
     ]
    }
   ],
   "source": [
    "avgAcc = []\n",
    "for i in range(5):\n",
    "    t = accuracyMatrix[:,i] \n",
    "    avg = np.average(t[np.nonzero(t)])\n",
    "    avgAcc.append(avg)\n",
    "    print(\"Average accuracy after training \"+str(i+1)+\" tasks: \", avg)\n",
    "avgAcc = np.around(np.array(avgAcc),2)"
   ]
  },
  {
   "cell_type": "code",
   "execution_count": 25,
   "metadata": {},
   "outputs": [
    {
     "data": {
      "text/plain": [
       "array([1.  , 0.99, 0.98, 0.99, 0.99])"
      ]
     },
     "execution_count": 25,
     "metadata": {},
     "output_type": "execute_result"
    }
   ],
   "source": [
    "avgAcc"
   ]
  },
  {
   "cell_type": "code",
   "execution_count": 54,
   "metadata": {},
   "outputs": [
    {
     "data": {
      "text/plain": [
       "[53.53, 38.5, 30.62, 26.56, 20.19]"
      ]
     },
     "execution_count": 54,
     "metadata": {},
     "output_type": "execute_result"
    }
   ],
   "source": [
    "trainingTime = list(np.around(np.array(trainingTime),2))\n",
    "trainingTime"
   ]
  },
  {
   "cell_type": "code",
   "execution_count": null,
   "metadata": {},
   "outputs": [],
   "source": []
  },
  {
   "cell_type": "code",
   "execution_count": 52,
   "metadata": {},
   "outputs": [
    {
     "name": "stdout",
     "output_type": "stream",
     "text": [
      "Total Learning Time: 169.4\n"
     ]
    }
   ],
   "source": [
    "print(\"Total Learning Time:\",sum(trainingTime))"
   ]
  },
  {
   "cell_type": "code",
   "execution_count": 27,
   "metadata": {},
   "outputs": [],
   "source": [
    "accuracyMatrix *= 100\n",
    "avgAcc *= 100\n",
    "aucRoc *= 100\n",
    "avgRoc *= 100"
   ]
  },
  {
   "cell_type": "code",
   "execution_count": 28,
   "metadata": {},
   "outputs": [
    {
     "data": {
      "text/plain": [
       "Text(0.5, 1.0, 'AUC-ROC after N Tasks')"
      ]
     },
     "execution_count": 28,
     "metadata": {},
     "output_type": "execute_result"
    },
    {
     "data": {
      "image/png": "[encoded data removed]",
      "text/plain": [
       "<Figure size 432x288 with 1 Axes>"
      ]
     },
     "metadata": {
      "needs_background": "light"
     },
     "output_type": "display_data"
    }
   ],
   "source": [
    "df1 = pd.DataFrame({'Tasks':['1', '2', '3', '4', '5'], 'Avg AUC-ROC':avgRoc})\n",
    "ax1 = df1.plot.bar(x='Tasks', y='Avg AUC-ROC', rot=0)\n",
    "for p in ax1.patches:\n",
    "    ax1.annotate(str(p.get_height()), (p.get_x() * 1.005, p.get_height() * 1.001))\n",
    "plt.ylim(93,101)\n",
    "plt.title('AUC-ROC after N Tasks')"
   ]
  },
  {
   "cell_type": "code",
   "execution_count": 29,
   "metadata": {},
   "outputs": [
    {
     "data": {
      "text/plain": [
       "Text(0.5, 1.0, 'Average test accuracy after N tasks')"
      ]
     },
     "execution_count": 29,
     "metadata": {},
     "output_type": "execute_result"
    },
    {
     "data": {
      "image/png": "[encoded data removed]",
      "text/plain": [
       "<Figure size 432x288 with 1 Axes>"
      ]
     },
     "metadata": {
      "needs_background": "light"
     },
     "output_type": "display_data"
    }
   ],
   "source": [
    "df2 = pd.DataFrame({'Tasks':['1', '2', '3', '4', '5'], 'Avg Test Acc':avgAcc})\n",
    "ax2 = df2.plot.bar(x='Tasks', y='Avg Test Acc', rot=0)\n",
    "for p in ax2.patches:\n",
    "    ax2.annotate(str(p.get_height()), (p.get_x() * 1.005, p.get_height() * 1.001))\n",
    "plt.ylim(93,101)\n",
    "plt.title('Average test accuracy after N tasks')"
   ]
  },
  {
   "cell_type": "code",
   "execution_count": 55,
   "metadata": {},
   "outputs": [
    {
     "data": {
      "text/plain": [
       "Text(0.5, 1.0, 'Training time for task T')"
      ]
     },
     "execution_count": 55,
     "metadata": {},
     "output_type": "execute_result"
    },
    {
     "data": {
      "image/png": "[encoded data removed]",
      "text/plain": [
       "<Figure size 432x288 with 1 Axes>"
      ]
     },
     "metadata": {
      "needs_background": "light"
     },
     "output_type": "display_data"
    }
   ],
   "source": [
    "df3 = pd.DataFrame({'Tasks':['1', '2', '3', '4', '5'], 'Time in Sec':trainingTime})\n",
    "ax3 = df3.plot.bar(x='Tasks', y='Time in Sec', rot=0)\n",
    "for p in ax3.patches:\n",
    "    ax3.annotate(str(p.get_height()), (p.get_x() * 1.005, p.get_height() * 1.025))\n",
    "plt.ylim(0,70)\n",
    "plt.title('Training time for task T')"
   ]
  },
  {
   "cell_type": "code",
   "execution_count": 1,
   "metadata": {},
   "outputs": [],
   "source": [
    "#nodes_info"
   ]
  },
  {
   "cell_type": "code",
   "execution_count": 35,
   "metadata": {},
   "outputs": [],
   "source": [
    "capacity = np.around(nodes_info[:,0]/nodes_info[:,1]*100,2)"
   ]
  },
  {
   "cell_type": "code",
   "execution_count": 36,
   "metadata": {},
   "outputs": [],
   "source": [
    "capacity = capacity[1:]"
   ]
  },
  {
   "cell_type": "code",
   "execution_count": 37,
   "metadata": {},
   "outputs": [
    {
     "data": {
      "text/plain": [
       "Text(0.5, 1.0, '% of increased model capacity ')"
      ]
     },
     "execution_count": 37,
     "metadata": {},
     "output_type": "execute_result"
    },
    {
     "data": {
      "image/png": "[encoded data removed]",
      "text/plain": [
       "<Figure size 432x288 with 1 Axes>"
      ]
     },
     "metadata": {
      "needs_background": "light"
     },
     "output_type": "display_data"
    }
   ],
   "source": [
    "df4 = pd.DataFrame({'Tasks':['1', '2', '3', '4'], 'capacity':capacity})\n",
    "ax4 = df4.plot.bar(x='Tasks', y='capacity', rot=0)\n",
    "for p in ax4.patches:\n",
    "    ax4.annotate(str(p.get_height())+\" %\", (p.get_x() * 1.005, p.get_height() * 1.025))\n",
    "#plt.ylim(30,90)\n",
    "plt.title('% of increased model capacity ')"
   ]
  },
  {
   "cell_type": "code",
   "execution_count": null,
   "metadata": {},
   "outputs": [],
   "source": []
  },
  {
   "cell_type": "code",
   "execution_count": 49,
   "metadata": {},
   "outputs": [],
   "source": [
    "layers_size = np.array([1124,595,146,2])"
   ]
  },
  {
   "cell_type": "code",
   "execution_count": null,
   "metadata": {},
   "outputs": [],
   "source": []
  },
  {
   "cell_type": "code",
   "execution_count": null,
   "metadata": {},
   "outputs": [],
   "source": []
  },
  {
   "cell_type": "code",
   "execution_count": null,
   "metadata": {},
   "outputs": [],
   "source": []
  },
  {
   "cell_type": "code",
   "execution_count": null,
   "metadata": {},
   "outputs": [],
   "source": []
  },
  {
   "cell_type": "code",
   "execution_count": null,
   "metadata": {},
   "outputs": [],
   "source": []
  },
  {
   "cell_type": "code",
   "execution_count": null,
   "metadata": {},
   "outputs": [],
   "source": []
  },
  {
   "cell_type": "code",
   "execution_count": 48,
   "metadata": {},
   "outputs": [],
   "source": []
  },
  {
   "cell_type": "code",
   "execution_count": null,
   "metadata": {},
   "outputs": [],
   "source": []
  },
  {
   "cell_type": "code",
   "execution_count": null,
   "metadata": {
    "scrolled": true
   },
   "outputs": [],
   "source": []
  },
  {
   "cell_type": "code",
   "execution_count": null,
   "metadata": {},
   "outputs": [],
   "source": []
  },
  {
   "cell_type": "code",
   "execution_count": null,
   "metadata": {},
   "outputs": [],
   "source": []
  },
  {
   "cell_type": "code",
   "execution_count": null,
   "metadata": {},
   "outputs": [],
   "source": []
  },
  {
   "cell_type": "code",
   "execution_count": null,
   "metadata": {},
   "outputs": [],
   "source": []
  },
  {
   "cell_type": "code",
   "execution_count": null,
   "metadata": {},
   "outputs": [],
   "source": []
  },
  {
   "cell_type": "code",
   "execution_count": null,
   "metadata": {},
   "outputs": [],
   "source": []
  },
  {
   "cell_type": "code",
   "execution_count": null,
   "metadata": {},
   "outputs": [],
   "source": []
  },
  {
   "cell_type": "code",
   "execution_count": null,
   "metadata": {},
   "outputs": [],
   "source": []
  },
  {
   "cell_type": "code",
   "execution_count": null,
   "metadata": {},
   "outputs": [],
   "source": []
  },
  {
   "cell_type": "code",
   "execution_count": null,
   "metadata": {},
   "outputs": [],
   "source": []
  },
  {
   "cell_type": "code",
   "execution_count": null,
   "metadata": {},
   "outputs": [],
   "source": []
  },
  {
   "cell_type": "code",
   "execution_count": 56,
   "metadata": {},
   "outputs": [],
   "source": [
    "from numpy import savetxt\n",
    "savetxt(\"./trainingResults/mnist/accMatrix_mnist.csv\",accuracyMatrix,delimiter = \",\")\n",
    "savetxt(\"./trainingResults/mnist/aucRoc_mnist.csv\",aucRoc,delimiter = \",\")\n",
    "savetxt(\"./trainingResults/mnist/avg_acc_mnist.csv\",avgAcc,delimiter = \",\")\n",
    "savetxt(\"./trainingResults/mnist/avg_aucRoc_mnist.csv\",avgRoc,delimiter = \",\")\n",
    "savetxt(\"./trainingResults/mnist/trainTime_mnist.csv\",trainingTime,delimiter = \",\")\n",
    "savetxt(\"./trainingResults/mnist/nodes_info.csv\",nodes_info,delimiter = \",\")#layers_size\n",
    "savetxt(\"./trainingResults/mnist/layers_size.csv\",layers_size,delimiter = \",\")\n",
    "#savetxt(\"./trainingResults/mnistClassWise/accMatrixIL_mnist.csv\",accuracyMatrixIL,delimiter = \",\")\n",
    "\n",
    "#savetxt(\"./trainingResults/mnistClassWise/isolatedTrainingTime_mnist.csv\",isolatedTrainingTime,delimiter = \",\")\n",
    "\n",
    "#savetxt(\"./trainingResults/mnistClassWise/aucRocIL_mnist.csv\",aucRocIL,delimiter = \",\")"
   ]
  },
  {
   "cell_type": "code",
   "execution_count": null,
   "metadata": {},
   "outputs": [],
   "source": []
  },
  {
   "cell_type": "code",
   "execution_count": null,
   "metadata": {},
   "outputs": [],
   "source": []
  },
  {
   "cell_type": "code",
   "execution_count": null,
   "metadata": {},
   "outputs": [],
   "source": []
  },
  {
   "cell_type": "code",
   "execution_count": null,
   "metadata": {},
   "outputs": [],
   "source": []
  },
  {
   "cell_type": "code",
   "execution_count": null,
   "metadata": {},
   "outputs": [],
   "source": []
  },
  {
   "cell_type": "code",
   "execution_count": null,
   "metadata": {},
   "outputs": [],
   "source": [
    "\n",
    "    if i == 0:\n",
    "        sampleX = x_\n",
    "        sampleY = y_\n",
    "    else:\n",
    "        x_, y_ = shuffle(x_, y_, random_state=0)\n",
    "        split = X.shape[0]*3//100\n",
    "        sampleX = np.concatenate((sampleX,x_[:split]))\n",
    "        sampleY = np.concatenate((sampleY,y_[:split]))\n",
    "    "
   ]
  }
 ],
 "metadata": {
  "kernelspec": {
   "display_name": "Python 3",
   "language": "python",
   "name": "python3"
  },
  "language_info": {
   "codemirror_mode": {
    "name": "ipython",
    "version": 3
   },
   "file_extension": ".py",
   "mimetype": "text/x-python",
   "name": "python",
   "nbconvert_exporter": "python",
   "pygments_lexer": "ipython3",
   "version": "3.7.6"
  }
 },
 "nbformat": 4,
 "nbformat_minor": 4
}
